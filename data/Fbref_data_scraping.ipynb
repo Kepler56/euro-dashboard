{
  "nbformat": 4,
  "nbformat_minor": 0,
  "metadata": {
    "colab": {
      "provenance": [],
      "gpuType": "T4",
      "collapsed_sections": [
        "k_rQ2gaVti6u",
        "uHn9vFILtdBt",
        "tqNbo2xQi2vU",
        "23m-a12JqQPx",
        "17SgWvWd5YRV",
        "XLuvbyOE9LsN",
        "KWZONm0P34Wp",
        "KoPiekhm5a_-",
        "kHKHVt-Mmeog",
        "THkFmvT8mnvi",
        "ImeIvksnwxpZ",
        "7OsP67cmw39B",
        "7dU8jRfkxXHL",
        "4cY7WlXQ20wm",
        "WAxCdIoS3SKg",
        "5aUi6L9l3Hbw",
        "Cqa5FUYc7sZK",
        "vRUtsUwB7wsn",
        "vBB3v4FK76IV",
        "2OUnJN8l-Kor",
        "M1rBj9II-Ncb",
        "fBUAkbQ_-Vtk",
        "BNnO8oTaAl4c",
        "mUalzv1fIPct"
      ]
    },
    "kernelspec": {
      "name": "python3",
      "display_name": "Python 3"
    },
    "language_info": {
      "name": "python"
    },
    "accelerator": "GPU"
  },
  "cells": [
    {
      "cell_type": "markdown",
      "source": [
        "# UEFA European Football Championship"
      ],
      "metadata": {
        "id": "orXwcJdTuFR9"
      }
    },
    {
      "cell_type": "code",
      "source": [
        "from google.colab import drive\n",
        "drive.mount('/content/drive')"
      ],
      "metadata": {
        "colab": {
          "base_uri": "https://localhost:8080/"
        },
        "id": "dgkZTIZfgwBK",
        "outputId": "ab74f875-b3d9-4626-d475-1aff0984d118"
      },
      "execution_count": null,
      "outputs": [
        {
          "output_type": "stream",
          "name": "stdout",
          "text": [
            "Mounted at /content/drive\n"
          ]
        }
      ]
    },
    {
      "cell_type": "markdown",
      "source": [
        "## Importing libraries and defining necessary variables"
      ],
      "metadata": {
        "id": "k_rQ2gaVti6u"
      }
    },
    {
      "cell_type": "code",
      "execution_count": null,
      "metadata": {
        "id": "nZaUYLtUep7m"
      },
      "outputs": [],
      "source": [
        "import pandas as pd\n",
        "import numpy as np\n",
        "from bs4 import BeautifulSoup as bs\n",
        "import requests\n",
        "\n",
        "URL_FBREF = \"https://fbref.com\"\n",
        "UEFA_EURO_URL = \"https://fbref.com/en/comps/676/history/European-Championship-Seasons\""
      ]
    },
    {
      "cell_type": "markdown",
      "source": [
        "## General information on each euro competition from 2000 to 2024\n",
        "\n",
        "> Ajouter une citation\n",
        "\n",
        "\n",
        "\n",
        "\n"
      ],
      "metadata": {
        "id": "uHn9vFILtdBt"
      }
    },
    {
      "cell_type": "markdown",
      "source": [
        "### By using [FBREF](https://fbref.com/en/comps/676/history/European-Championship-Seasons)\n",
        "\n",
        "*   Year\n",
        "*   Host Country\n",
        "*   Number of teams in the competition\n",
        "*   Winner of the competition\n",
        "*   Runner-up of the competition\n",
        "*   URL of each competitions logo"
      ],
      "metadata": {
        "id": "JwBbzi15i-Wj"
      }
    },
    {
      "cell_type": "code",
      "source": [
        "df_euro_seasons = pd.read_html('https://fbref.com/en/comps/676/history/European-Championship-Seasons',\n",
        "                               attrs={'id':'seasons'})[0].drop(['Competition Name', 'Final', 'Top Scorer'], axis=1)"
      ],
      "metadata": {
        "id": "ngonWL0XiMnZ"
      },
      "execution_count": null,
      "outputs": []
    },
    {
      "cell_type": "code",
      "source": [
        "response_fbref = requests.get(UEFA_EURO_URL)\n",
        "html_fbref = response_fbref.content\n",
        "soup_fbref = bs(html_fbref, \"lxml\")"
      ],
      "metadata": {
        "id": "HGmbuKs4mLAe"
      },
      "execution_count": null,
      "outputs": []
    },
    {
      "cell_type": "code",
      "source": [
        "get_euro_seasons_table = soup_fbref.find(attrs={'id':'seasons'})\n",
        "get_euro_seasons_competition_url = []\n",
        "\n",
        "def retrieveHrefElement(element, json_attrs, url_fbref):\n",
        "  element = element.find(attrs=json_attrs)\n",
        "  href_element = element.find('a', href=True)\n",
        "  if href_element:\n",
        "    return url_fbref + href_element['href']\n",
        "  return 'NaN'\n",
        "\n",
        "row = 0\n",
        "for element in get_euro_seasons_table.find('tbody').find_all('tr'):\n",
        "  # Retrieve the FBREF URL for each euro competition\n",
        "  get_euro_seasons_competition_url.append(retrieveHrefElement(element, {'data-stat':'year'}, URL_FBREF))"
      ],
      "metadata": {
        "id": "w-jkoMDmwxWs"
      },
      "execution_count": null,
      "outputs": []
    },
    {
      "cell_type": "code",
      "source": [
        "def retrieveElements(url, json_attrs):\n",
        "  response = requests.get(url)\n",
        "  html = response.content\n",
        "  soup = bs(html, \"lxml\")\n",
        "  return soup.find(attrs=json_attrs)\n",
        "\n",
        "get_euros_logo_url = []\n",
        "get_most_cleaned_sheets_player_names = []\n",
        "get_number_of_clean_sheets = []\n",
        "\n",
        "for url in get_euro_seasons_competition_url:\n",
        "  # Retrieve the url for each competition's logo\n",
        "  get_euros_logo_url.append(retrieveElements(url, {'class':'teamlogo'})['src'])\n",
        "\n",
        "\n",
        "df_euro_seasons['Logos URL'] = get_euros_logo_url\n",
        "df_euro_seasons[\"Logos URL\"][0] = \"https://upload.wikimedia.org/wikipedia/fr/0/0a/Logo_UEFA_Euro_2024.svg\""
      ],
      "metadata": {
        "id": "YMeHWqfQsUCk",
        "colab": {
          "base_uri": "https://localhost:8080/"
        },
        "outputId": "d2c17f04-80d2-4429-af6f-1829efc2c912"
      },
      "execution_count": null,
      "outputs": [
        {
          "output_type": "stream",
          "name": "stderr",
          "text": [
            "<ipython-input-140-7ab189616d85>:17: SettingWithCopyWarning: \n",
            "A value is trying to be set on a copy of a slice from a DataFrame\n",
            "\n",
            "See the caveats in the documentation: https://pandas.pydata.org/pandas-docs/stable/user_guide/indexing.html#returning-a-view-versus-a-copy\n",
            "  df_euro_seasons[\"Logos URL\"][0] = \"https://upload.wikimedia.org/wikipedia/fr/0/0a/Logo_UEFA_Euro_2024.svg\"\n"
          ]
        }
      ]
    },
    {
      "cell_type": "markdown",
      "source": [
        "### By manually adding data\n",
        "\n",
        "*   Total number of matches played in each tournament\n",
        "*   Total revenue collected in each competition"
      ],
      "metadata": {
        "id": "9B0iyGE0jKc0"
      }
    },
    {
      "cell_type": "code",
      "source": [
        "# Adding data manually\n",
        "\n",
        "number_of_matches = [51, 51, 51, 31, 31, 31, 31]\n",
        "\n",
        "total_revenue = [np.nan, 1882.5, 1916, 1390.9, 1350.9, 855.2, 229.9]\n",
        "\n",
        "df_euro_seasons[\"Host Country\"][1] = \"Europe\"\n",
        "df_euro_seasons[\"Total revenue (in million euros)\"] = total_revenue\n",
        "df_euro_seasons[\"Matches\"] = number_of_matches"
      ],
      "metadata": {
        "id": "68qjVdSd6LxE",
        "colab": {
          "base_uri": "https://localhost:8080/"
        },
        "outputId": "3bcbc00b-d910-416a-bb8b-9f9b533e93d9"
      },
      "execution_count": null,
      "outputs": [
        {
          "output_type": "stream",
          "name": "stderr",
          "text": [
            "<ipython-input-141-f834fd39fba5>:7: SettingWithCopyWarning: \n",
            "A value is trying to be set on a copy of a slice from a DataFrame\n",
            "\n",
            "See the caveats in the documentation: https://pandas.pydata.org/pandas-docs/stable/user_guide/indexing.html#returning-a-view-versus-a-copy\n",
            "  df_euro_seasons[\"Host Country\"][1] = \"Europe\"\n"
          ]
        }
      ]
    },
    {
      "cell_type": "markdown",
      "source": [
        "### By using [WIKIPEDIA](https://en.wikipedia.org/wiki/UEFA_European_Championship_records_and_statistics#Team:_Tournament_position)\n",
        "\n",
        "*   Winning coach\n",
        "*   Player of the Tournament\n",
        "*   Number of clean sheets\n",
        "*   Top Scorers number of goals\n",
        "*   Top Scorers"
      ],
      "metadata": {
        "id": "tqNbo2xQi2vU"
      }
    },
    {
      "cell_type": "code",
      "source": [
        "df_additional_stats = pd.read_html(\"https://en.wikipedia.org/wiki/UEFA_European_Championship_records_and_statistics#Attendance\",\n",
        "                                   match=\"Player of the Tournament\")[0].drop([\"Hosts\", \"Champions\"], axis=1)\n",
        "df_additional_stats.loc[15,'Year'] = 2021"
      ],
      "metadata": {
        "id": "UDEguwaEh9NN"
      },
      "execution_count": null,
      "outputs": []
    },
    {
      "cell_type": "code",
      "source": [
        "df_additional_stats = df_additional_stats[(df_additional_stats[\"Year\"] >= 2000) & (df_additional_stats[\"Year\"] <= 2024)]\n",
        "df_euro_seasons = df_euro_seasons.merge(df_additional_stats, on=\"Year\")"
      ],
      "metadata": {
        "id": "V8piu5n2kSi3"
      },
      "execution_count": null,
      "outputs": []
    },
    {
      "cell_type": "code",
      "source": [
        "player_names = []\n",
        "player_goals = []\n",
        "\n",
        "for top_scorer in df_additional_stats[\"Top scorer(s) (goals)\"]:\n",
        "  player_names.append([name.split('(')[0].strip() for name in top_scorer.split(')')][:-1])\n",
        "  player_goals.append([goals.split('(')[-1].strip() for goals in top_scorer.split(')')][0])\n",
        "\n",
        "player_names[-1] = \"To be determined\"\n",
        "df_euro_seasons['Top Scorer Names'] = player_names\n",
        "df_euro_seasons['Top Scorer Number of Goals'] = player_goals\n",
        "df_euro_seasons.drop(['Top scorer(s) (goals)'], axis=1, inplace=True)"
      ],
      "metadata": {
        "id": "5rno7WJ6ole1"
      },
      "execution_count": null,
      "outputs": []
    },
    {
      "cell_type": "code",
      "source": [
        "df_euro_seasons.to_csv('/content/drive/MyDrive/EURO 24 Project/data/euro_seasons.csv', index=False)"
      ],
      "metadata": {
        "id": "7uZKMRgQ0a7o"
      },
      "execution_count": null,
      "outputs": []
    },
    {
      "cell_type": "markdown",
      "source": [
        "## Specific metrics to each euro competition from 2000 to 2024\n"
      ],
      "metadata": {
        "id": "23m-a12JqQPx"
      }
    },
    {
      "cell_type": "markdown",
      "source": [
        "### Euro - 2000"
      ],
      "metadata": {
        "id": "17SgWvWd5YRV"
      }
    },
    {
      "cell_type": "markdown",
      "source": [
        "#### Euro 2000 - [From Wikipedia](https://en.wikipedia.org/wiki/UEFA_Euro_2000_statistics)\n",
        "\n",
        "- **Pld** = total games played\n",
        "- **W** = total games won\n",
        "- **D** = total games drawn (tied)\n",
        "- **L** = total games lost\n",
        "- **Pts** = total points accumulated (teams receive three points for a win, one point for a draw and no points for a loss)\n",
        "- **APts** = average points per game\n",
        "- **GF** = total goals scored (goals for)\n",
        "- **AGF** = average goals scored per game\n",
        "- **GA** = total goals conceded (goals against)\n",
        "- **AGA** = average goals conceded per game\n",
        "- **GD** = goal difference (GF−GA)\n",
        "- **CS** = clean sheets\n",
        "- **ACS** = average clean sheets\n",
        "- **YC** = yellow cards\n",
        "- **AYC** = average yellow cards\n",
        "- **RC** = red cards\n",
        "- **ARC** = average red cards"
      ],
      "metadata": {
        "id": "XLuvbyOE9LsN"
      }
    },
    {
      "cell_type": "code",
      "source": [
        "df_euro_2000_league_table = pd.read_html(\"https://en.wikipedia.org/wiki/UEFA_Euro_2000_statistics\",\n",
        "                                         match='Nation')[0].sort_values(by='Pts', ascending=False, ignore_index=True)\n",
        "df_euro_2000_league_table.to_csv('/content/drive/MyDrive/EURO 24 Project/data/EURO 2000/euro_season_2000_league_table.csv', index=False)"
      ],
      "metadata": {
        "id": "-SUDhSyI9TOA"
      },
      "execution_count": null,
      "outputs": []
    },
    {
      "cell_type": "markdown",
      "source": [
        "#### Euro 2000 - [From FBREF](https://fbref.com/en/comps/676/2000/2000-European-Championship-Stats)\n",
        "\n",
        "- Top Team Scorer\n",
        "- Group stage and knockout scores & fixtures"
      ],
      "metadata": {
        "id": "KWZONm0P34Wp"
      }
    },
    {
      "cell_type": "code",
      "source": [
        "df_euro_2000_league_table_fbref = pd.read_html(\"https://fbref.com/en/comps/676/2000/2000-European-Championship-Stats\",\n",
        "                                               attrs={'id':'results20006760_overall'})[0].dropna(axis=0, how='all', ignore_index=True)[['Rk', 'Squad', 'Top Team Scorer']]\n",
        "squad_names = [name.split()[-1].strip() for name in list(df_euro_2000_league_table_fbref['Squad'])]\n",
        "df_euro_2000_league_table_fbref['Squad'] = squad_names\n",
        "df_euro_2000_league_table_fbref.rename(columns={'Squad':'Nation'}, inplace=True)\n",
        "df_euro_2000_league_table_fbref.to_csv('/content/drive/MyDrive/EURO 24 Project/data/EURO 2000/euro_season_2000_team_top_scorer.csv', index=False)"
      ],
      "metadata": {
        "id": "xI8nl5wn37zx"
      },
      "execution_count": null,
      "outputs": []
    },
    {
      "cell_type": "code",
      "source": [
        "df_scores_fixtures_group_stage_euro_2000 = pd.read_html(\"https://fbref.com/en/comps/676/2000/schedule/2000-European-Championship-Scores-and-Fixtures\",\n",
        "                                            attrs={'id':'sched_2000_676_1'})[0].dropna(axis=0, how='all', ignore_index=True).drop(['Notes', 'Match Report'], axis=1)\n",
        "df_scores_fixtures_ko_stage_euro_2000 = pd.read_html(\"https://fbref.com/en/comps/676/2000/schedule/2000-European-Championship-Scores-and-Fixtures\",\n",
        "                                            attrs={'id':'sched_2000_676_2'})[0].dropna(axis=0, how='all', ignore_index=True)\n",
        "df_scores_fixtures_group_stage_euro_2000.to_csv('/content/drive/MyDrive/EURO 24 Project/data/EURO 2000/euro_season_2000_group_stage.csv', index=False)\n",
        "df_scores_fixtures_ko_stage_euro_2000.to_csv('/content/drive/MyDrive/EURO 24 Project/data/EURO 2000/euro_season_2000_ko_stage.csv', index=False)"
      ],
      "metadata": {
        "id": "8elfTuDYGwCl"
      },
      "execution_count": null,
      "outputs": []
    },
    {
      "cell_type": "markdown",
      "source": [
        "### Euro - 2004"
      ],
      "metadata": {
        "id": "KoPiekhm5a_-"
      }
    },
    {
      "cell_type": "markdown",
      "source": [
        "#### Euro 2004 - From [Wikipedia](https://en.wikipedia.org/wiki/UEFA_Euro_2004_statistics)\n",
        "\n",
        "- Refer to abbreviations from Euro 2000 section"
      ],
      "metadata": {
        "id": "kHKHVt-Mmeog"
      }
    },
    {
      "cell_type": "code",
      "source": [
        "df_euro_2004_league_table = pd.read_html(\"https://en.wikipedia.org/wiki/UEFA_Euro_2004_statistics\",\n",
        "                                         match='Nation')[0].sort_values(by='Pts', ascending=False, ignore_index=True)\n",
        "df_euro_2004_league_table.to_csv('/content/drive/MyDrive/EURO 24 Project/data/EURO 2004/euro_season_2004_league_table.csv', index=False)"
      ],
      "metadata": {
        "id": "3iFvoIAB6svR"
      },
      "execution_count": null,
      "outputs": []
    },
    {
      "cell_type": "markdown",
      "source": [
        "#### Euro 2004 - From [FBREF](https://fbref.com/en/comps/676/2004/2004-European-Championship-Stats)\n",
        "- Same data collected as for Euro 2000"
      ],
      "metadata": {
        "id": "THkFmvT8mnvi"
      }
    },
    {
      "cell_type": "code",
      "source": [
        "df_euro_2004_league_table_fbref = pd.read_html(\"https://fbref.com/en/comps/676/2004/2004-European-Championship-Stats\",\n",
        "                                               attrs={'id':'results20046760_overall'})[0].dropna(axis=0, how='all', ignore_index=True)[['Rk', 'Squad', 'Top Team Scorer']]\n",
        "squad_names = [name.split()[-1].strip() for name in list(df_euro_2004_league_table_fbref['Squad'])]\n",
        "df_euro_2004_league_table_fbref['Squad'] = squad_names\n",
        "df_euro_2004_league_table_fbref.rename(columns={'Squad':'Nation'}, inplace=True)\n",
        "df_euro_2004_league_table_fbref.to_csv('/content/drive/MyDrive/EURO 24 Project/data/EURO 2004/euro_season_2004_team_top_scorer.csv', index=False)"
      ],
      "metadata": {
        "id": "kJqRAvLhmseA"
      },
      "execution_count": null,
      "outputs": []
    },
    {
      "cell_type": "code",
      "source": [
        "df_scores_fixtures_group_stage_euro_2004 = pd.read_html(\"https://fbref.com/en/comps/676/2004/schedule/2004-European-Championship-Scores-and-Fixtures\",\n",
        "                                            attrs={'id':'sched_2004_676_1'})[0].dropna(axis=0, how='all', ignore_index=True).drop(['Notes', 'Match Report'], axis=1)\n",
        "df_scores_fixtures_ko_stage_euro_2004 = pd.read_html(\"https://fbref.com/en/comps/676/2004/schedule/2004-European-Championship-Scores-and-Fixtures\",\n",
        "                                            attrs={'id':'sched_2004_676_2'})[0].dropna(axis=0, how='all', ignore_index=True)\n",
        "df_scores_fixtures_group_stage_euro_2004.to_csv('/content/drive/MyDrive/EURO 24 Project/data/EURO 2004/euro_season_2004_group_stage.csv', index=False)\n",
        "df_scores_fixtures_ko_stage_euro_2004.to_csv('/content/drive/MyDrive/EURO 24 Project/data/EURO 2004/euro_season_2004_ko_stage.csv', index=False)"
      ],
      "metadata": {
        "id": "TuEpT6vCqnNA"
      },
      "execution_count": null,
      "outputs": []
    },
    {
      "cell_type": "markdown",
      "source": [
        "### Euro - 2008"
      ],
      "metadata": {
        "id": "ImeIvksnwxpZ"
      }
    },
    {
      "cell_type": "markdown",
      "source": [
        "#### Euro 2008 - From [Wikipedia](https://en.wikipedia.org/wiki/UEFA_Euro_2008_statistics)"
      ],
      "metadata": {
        "id": "7OsP67cmw39B"
      }
    },
    {
      "cell_type": "code",
      "source": [
        "df_euro_2008_league_table = pd.read_html(\"https://en.wikipedia.org/wiki/UEFA_Euro_2008_statistics\",\n",
        "                                         match='Nation')[0].sort_values(by='Pts', ascending=False, ignore_index=True)\n",
        "df_euro_2008_league_table.to_csv('/content/drive/MyDrive/EURO 24 Project/data/EURO 2008/euro_season_2008_league_table.csv', index=False)"
      ],
      "metadata": {
        "id": "9jHE9jH8xdtG"
      },
      "execution_count": null,
      "outputs": []
    },
    {
      "cell_type": "markdown",
      "source": [
        "#### Euro 2008 - From [FBREF](https://fbref.com/en/comps/676/2008/2008-European-Championship-Stats)"
      ],
      "metadata": {
        "id": "7dU8jRfkxXHL"
      }
    },
    {
      "cell_type": "code",
      "source": [
        "df_euro_2008_league_table_fbref = pd.read_html(\"https://fbref.com/en/comps/676/2008/2008-European-Championship-Stats\",\n",
        "                                               attrs={'id':'results20086760_overall'})[0].dropna(axis=0, how='all', ignore_index=True)[['Rk', 'Squad', 'Top Team Scorer']]\n",
        "squad_names = [name.split()[-1].strip() for name in list(df_euro_2008_league_table_fbref['Squad'])]\n",
        "df_euro_2008_league_table_fbref['Squad'] = squad_names\n",
        "df_euro_2008_league_table_fbref.rename(columns={'Squad':'Nation'}, inplace=True)\n",
        "df_euro_2008_league_table_fbref.to_csv('/content/drive/MyDrive/EURO 24 Project/data/EURO 2008/euro_season_2008_team_top_scorer.csv', index=False)"
      ],
      "metadata": {
        "id": "A-uM_heBxc49"
      },
      "execution_count": null,
      "outputs": []
    },
    {
      "cell_type": "code",
      "source": [
        "df_scores_fixtures_group_stage_euro_2008 = pd.read_html(\"https://fbref.com/en/comps/676/2008/schedule/2008-European-Championship-Scores-and-Fixtures\",\n",
        "                                            attrs={'id':'sched_2008_676_1'})[0].dropna(axis=0, how='all', ignore_index=True).drop(['Notes', 'Match Report'], axis=1)\n",
        "df_scores_fixtures_ko_stage_euro_2008 = pd.read_html(\"https://fbref.com/en/comps/676/2008/schedule/2008-European-Championship-Scores-and-Fixtures\",\n",
        "                                            attrs={'id':'sched_2008_676_2'})[0].dropna(axis=0, how='all', ignore_index=True)\n",
        "df_scores_fixtures_group_stage_euro_2008.to_csv('/content/drive/MyDrive/EURO 24 Project/data/EURO 2008/euro_season_2008_group_stage.csv', index=False)\n",
        "df_scores_fixtures_ko_stage_euro_2008.to_csv('/content/drive/MyDrive/EURO 24 Project/data/EURO 2008/euro_season_2008_ko_stage.csv', index=False)"
      ],
      "metadata": {
        "id": "opqA2bZryGBV"
      },
      "execution_count": null,
      "outputs": []
    },
    {
      "cell_type": "markdown",
      "source": [
        "### Euro - 2012"
      ],
      "metadata": {
        "id": "4cY7WlXQ20wm"
      }
    },
    {
      "cell_type": "markdown",
      "source": [
        "#### Euro 2012 - From [Wikipedia](https://en.wikipedia.org/wiki/UEFA_Euro_2012_statistics)"
      ],
      "metadata": {
        "id": "WAxCdIoS3SKg"
      }
    },
    {
      "cell_type": "code",
      "source": [
        "df_euro_2012_league_table = pd.read_html(\"https://en.wikipedia.org/wiki/UEFA_Euro_2012_statistics\",\n",
        "                                         match='Pts')[0].sort_values(by='Pts', ascending=False, ignore_index=True).rename(columns={'Team':'Nation'})\n",
        "df_euro_2012_league_table.to_csv('/content/drive/MyDrive/EURO 24 Project/data/EURO 2012/euro_season_2012_league_table.csv', index=False)"
      ],
      "metadata": {
        "id": "nO1LoP3u2wT4"
      },
      "execution_count": null,
      "outputs": []
    },
    {
      "cell_type": "markdown",
      "source": [
        "#### Euro 2012 - From [FBREF](https://fbref.com/en/comps/676/2012/2012-European-Championship-Stats)"
      ],
      "metadata": {
        "id": "5aUi6L9l3Hbw"
      }
    },
    {
      "cell_type": "code",
      "source": [
        "df_euro_2012_league_table_fbref = pd.read_html(\"https://fbref.com/en/comps/676/2012/2012-European-Championship-Stats\",\n",
        "                                               attrs={'id':'results20126760_overall'})[0].dropna(axis=0, how='all', ignore_index=True)[['Rk', 'Squad', 'Top Team Scorer']]\n",
        "squad_names = [name.split()[-1].strip() for name in list(df_euro_2012_league_table_fbref['Squad'])]\n",
        "df_euro_2012_league_table_fbref['Squad'] = squad_names\n",
        "df_euro_2012_league_table_fbref.rename(columns={'Squad':'Nation'}, inplace=True)\n",
        "df_euro_2012_league_table_fbref.to_csv('/content/drive/MyDrive/EURO 24 Project/data/EURO 2012/euro_season_2012_team_top_scorer.csv', index=False)"
      ],
      "metadata": {
        "id": "hUdg_rti2ypg"
      },
      "execution_count": null,
      "outputs": []
    },
    {
      "cell_type": "code",
      "source": [
        "df_scores_fixtures_group_stage_euro_2012 = pd.read_html(\"https://fbref.com/en/comps/676/2012/schedule/2012-European-Championship-Scores-and-Fixtures\",\n",
        "                                            attrs={'id':'sched_2012_676_1'})[0].dropna(axis=0, how='all', ignore_index=True).drop(['Notes', 'Match Report'], axis=1)\n",
        "df_scores_fixtures_ko_stage_euro_2012 = pd.read_html(\"https://fbref.com/en/comps/676/2012/schedule/2012-European-Championship-Scores-and-Fixtures\",\n",
        "                                            attrs={'id':'sched_2012_676_2'})[0].dropna(axis=0, how='all', ignore_index=True)\n",
        "df_scores_fixtures_group_stage_euro_2012.to_csv('/content/drive/MyDrive/EURO 24 Project/data/EURO 2012/euro_season_2012_group_stage.csv', index=False)\n",
        "df_scores_fixtures_ko_stage_euro_2012.to_csv('/content/drive/MyDrive/EURO 24 Project/data/EURO 2012/euro_season_2012_ko_stage.csv', index=False)"
      ],
      "metadata": {
        "id": "-6txRjp82z6l"
      },
      "execution_count": null,
      "outputs": []
    },
    {
      "cell_type": "markdown",
      "source": [
        "### Euro - 2016"
      ],
      "metadata": {
        "id": "Cqa5FUYc7sZK"
      }
    },
    {
      "cell_type": "markdown",
      "source": [
        "#### Euro 2016 - From [Wikipedia](https://en.wikipedia.org/wiki/UEFA_Euro_2016_statistics)"
      ],
      "metadata": {
        "id": "vRUtsUwB7wsn"
      }
    },
    {
      "cell_type": "code",
      "source": [
        "df_euro_2016_league_table = pd.read_html(\"https://en.wikipedia.org/wiki/UEFA_Euro_2016_statistics\",\n",
        "                                         match='Pts')[0].sort_values(by='Pts', ascending=False, ignore_index=True).rename(columns={'Team':'Nation'})\n",
        "df_euro_2016_league_table.to_csv('/content/drive/MyDrive/EURO 24 Project/data/EURO 2016/euro_season_2016_league_table.csv', index=False)"
      ],
      "metadata": {
        "id": "YBnnQjKk7o9t"
      },
      "execution_count": null,
      "outputs": []
    },
    {
      "cell_type": "markdown",
      "source": [
        "#### Euro 2016 - From [FBREF](https://fbref.com/en/comps/676/2016/2016-European-Championship-Stats)"
      ],
      "metadata": {
        "id": "vBB3v4FK76IV"
      }
    },
    {
      "cell_type": "code",
      "source": [
        "df_euro_2016_league_table_fbref = pd.read_html(\"https://fbref.com/en/comps/676/2016/2016-European-Championship-Stats\",\n",
        "                                               attrs={'id':'results20166760_overall'})[0].dropna(axis=0, how='all', ignore_index=True)[['Rk', 'Squad', 'Top Team Scorer']]\n",
        "squad_names = [name.split()[-1].strip() for name in list(df_euro_2016_league_table_fbref['Squad'])]\n",
        "df_euro_2016_league_table_fbref['Squad'] = squad_names\n",
        "df_euro_2016_league_table_fbref.rename(columns={'Squad':'Nation'}, inplace=True)\n",
        "df_euro_2016_league_table_fbref.to_csv('/content/drive/MyDrive/EURO 24 Project/data/EURO 2016/euro_season_2016_team_top_scorer.csv', index=False)"
      ],
      "metadata": {
        "id": "U2EgDup17qC_"
      },
      "execution_count": null,
      "outputs": []
    },
    {
      "cell_type": "code",
      "source": [
        "df_scores_fixtures_group_stage_euro_2016 = pd.read_html(\"https://fbref.com/en/comps/676/2016/schedule/2016-European-Championship-Scores-and-Fixtures\",\n",
        "                                            attrs={'id':'sched_2016_676_1'})[0].dropna(axis=0, how='all', ignore_index=True).drop(['Notes', 'Match Report'], axis=1)\n",
        "df_scores_fixtures_ko_stage_euro_2016 = pd.read_html(\"https://fbref.com/en/comps/676/2016/schedule/2016-European-Championship-Scores-and-Fixtures\",\n",
        "                                            attrs={'id':'sched_2016_676_2'})[0].dropna(axis=0, how='all', ignore_index=True)\n",
        "df_scores_fixtures_group_stage_euro_2016.to_csv('/content/drive/MyDrive/EURO 24 Project/data/EURO 2016/euro_season_2016_group_stage.csv', index=False)\n",
        "df_scores_fixtures_ko_stage_euro_2016.to_csv('/content/drive/MyDrive/EURO 24 Project/data/EURO 2016/euro_season_2016_ko_stage.csv', index=False)"
      ],
      "metadata": {
        "id": "NzR_pOOs7rAE"
      },
      "execution_count": null,
      "outputs": []
    },
    {
      "cell_type": "markdown",
      "source": [
        "### Euro - 2020"
      ],
      "metadata": {
        "id": "2OUnJN8l-Kor"
      }
    },
    {
      "cell_type": "markdown",
      "source": [
        "#### Euro 2020 - From [Wikipedia](https://en.wikipedia.org/wiki/UEFA_Euro_2020_statistics)"
      ],
      "metadata": {
        "id": "M1rBj9II-Ncb"
      }
    },
    {
      "cell_type": "code",
      "source": [
        "df_euro_2020_league_table = pd.read_html(\"https://en.wikipedia.org/wiki/UEFA_Euro_2020_statistics\",\n",
        "                                         match='Pts')[0].sort_values(by='Pts', ascending=False, ignore_index=True).rename(columns={'Team':'Nation'})\n",
        "df_euro_2020_league_table.to_csv('/content/drive/MyDrive/EURO 24 Project/data/EURO 2020/euro_season_2020_league_table.csv', index=False)"
      ],
      "metadata": {
        "id": "OZATCeSb-GrR"
      },
      "execution_count": null,
      "outputs": []
    },
    {
      "cell_type": "markdown",
      "source": [
        "#### Euro 2020 - From [FBREF](https://fbref.com/en/comps/676/2021/2021-European-Championship-Stats)"
      ],
      "metadata": {
        "id": "fBUAkbQ_-Vtk"
      }
    },
    {
      "cell_type": "code",
      "source": [
        "df_euro_2021_league_table_fbref = pd.read_html(\"https://fbref.com/en/comps/676/2021/2021-European-Championship-Stats\",\n",
        "                                               attrs={'id':'results20216760_overall'})[0].dropna(axis=0, how='all', ignore_index=True)[['Rk', 'Squad', 'Top Team Scorer']]\n",
        "squad_names = [name.split()[-1].strip() for name in list(df_euro_2021_league_table_fbref['Squad'])]\n",
        "df_euro_2021_league_table_fbref['Squad'] = squad_names\n",
        "df_euro_2021_league_table_fbref.rename(columns={'Squad':'Nation'}, inplace=True)\n",
        "df_euro_2021_league_table_fbref.to_csv('/content/drive/MyDrive/EURO 24 Project/data/EURO 2020/euro_season_2020_team_top_scorer.csv', index=False)"
      ],
      "metadata": {
        "id": "_FrBOSRf-H7C"
      },
      "execution_count": null,
      "outputs": []
    },
    {
      "cell_type": "code",
      "source": [
        "df_scores_fixtures_group_stage_euro_2021 = pd.read_html(\"https://fbref.com/en/comps/676/2021/schedule/2021-European-Championship-Scores-and-Fixtures\",\n",
        "                                            attrs={'id':'sched_2021_676_1'})[0].dropna(axis=0, how='all', ignore_index=True).drop(['Notes', 'Match Report'], axis=1)\n",
        "df_scores_fixtures_ko_stage_euro_2021 = pd.read_html(\"https://fbref.com/en/comps/676/2021/schedule/2021-European-Championship-Scores-and-Fixtures\",\n",
        "                                            attrs={'id':'sched_2021_676_2'})[0].dropna(axis=0, how='all', ignore_index=True)\n",
        "df_scores_fixtures_group_stage_euro_2021.to_csv('/content/drive/MyDrive/EURO 24 Project/data/EURO 2020/euro_season_2020_group_stage.csv', index=False)\n",
        "df_scores_fixtures_ko_stage_euro_2021.to_csv('/content/drive/MyDrive/EURO 24 Project/data/EURO 2020/euro_season_2020_ko_stage.csv', index=False)"
      ],
      "metadata": {
        "id": "gO35BfXP-KAp"
      },
      "execution_count": null,
      "outputs": []
    },
    {
      "cell_type": "markdown",
      "source": [
        "## Specific metrics to each team competing in the euro tournaments\n"
      ],
      "metadata": {
        "id": "BNnO8oTaAl4c"
      }
    },
    {
      "cell_type": "markdown",
      "source": [
        "### General Stats\n",
        "- Team\n",
        "- Appearances\n",
        "- Debut\n",
        "- Most recent\n",
        "- Best result"
      ],
      "metadata": {
        "id": "mUalzv1fIPct"
      }
    },
    {
      "cell_type": "code",
      "source": [
        "team_general_stats = pd.read_html(\"https://en.wikipedia.org/wiki/UEFA_European_Championship_records_and_statistics\",\n",
        "                                  match='Best result')[0]\n",
        "team_general_stats.to_csv('/content/drive/MyDrive/EURO 24 Project/data/Teams/team_general_stats.csv', index=False)"
      ],
      "metadata": {
        "id": "SBcIdNKCAnM4"
      },
      "execution_count": null,
      "outputs": []
    }
  ]
}